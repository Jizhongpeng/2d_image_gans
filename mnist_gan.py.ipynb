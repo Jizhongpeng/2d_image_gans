{
 "cells": [
  {
   "cell_type": "code",
   "execution_count": 1,
   "metadata": {},
   "outputs": [
    {
     "name": "stdout",
     "output_type": "stream",
     "text": [
      "Once deleted, variables cannot be recovered. Proceed (y/[n])? y\n"
     ]
    },
    {
     "name": "stderr",
     "output_type": "stream",
     "text": [
      "ERROR:root:Invalid alias: The name clear can't be aliased because it is another magic command.\n",
      "ERROR:root:Invalid alias: The name more can't be aliased because it is another magic command.\n",
      "ERROR:root:Invalid alias: The name less can't be aliased because it is another magic command.\n",
      "ERROR:root:Invalid alias: The name man can't be aliased because it is another magic command.\n"
     ]
    }
   ],
   "source": [
    "%reset"
   ]
  },
  {
   "cell_type": "code",
   "execution_count": 2,
   "metadata": {},
   "outputs": [
    {
     "name": "stderr",
     "output_type": "stream",
     "text": [
      "Using TensorFlow backend.\n"
     ]
    }
   ],
   "source": [
    "import tensorflow as tf\n",
    "import numpy as np\n",
    "import seaborn as sb\n",
    "import matplotlib.pyplot as plt\n",
    "sb.set()\n",
    "\n",
    "# Keras imports\n",
    "import keras\n",
    "import keras.backend as K\n",
    "from keras.models import Sequential\n",
    "from keras.layers import Dense, Conv2D, Conv2DTranspose, Flatten, Activation, LeakyReLU, Reshape, BatchNormalization\n",
    "from keras.optimizers import RMSprop, Adam\n",
    "import gc"
   ]
  },
  {
   "cell_type": "code",
   "execution_count": 3,
   "metadata": {},
   "outputs": [],
   "source": [
    "# prevent tensorflow from using up all of the GPU's memory\n",
    "config = tf.ConfigProto()\n",
    "config.gpu_options.allow_growth = True\n",
    "session = tf.Session(config=config)"
   ]
  },
  {
   "cell_type": "code",
   "execution_count": 4,
   "metadata": {},
   "outputs": [],
   "source": [
    "# starting work on mnist branch.splitting the data into train/test. x = images, y = class 0-9;\n",
    "mnist = keras.datasets.mnist\n",
    "(x_train, y_train), (x_test, y_test) = mnist.load_data()"
   ]
  },
  {
   "cell_type": "code",
   "execution_count": 5,
   "metadata": {},
   "outputs": [
    {
     "data": {
      "image/png": "[encoded data removed]",
      "text/plain": [
       "<Figure size 360x288 with 20 Axes>"
      ]
     },
     "metadata": {},
     "output_type": "display_data"
    }
   ],
   "source": [
    "# display a sample of the mnist data\n",
    "plt.figure(figsize=(5, 4))\n",
    "for i in range(20):\n",
    "    plt.subplot(4, 5, i+1)\n",
    "    plt.imshow(x_train[i], cmap='gray')\n",
    "    plt.xticks([])\n",
    "    plt.yticks([])\n",
    "plt.tight_layout()\n",
    "plt.show()"
   ]
  },
  {
   "cell_type": "code",
   "execution_count": 6,
   "metadata": {},
   "outputs": [],
   "source": [
    "# Input noise to generator\n",
    "def noise_creator(num_of_samples, sample_size):\n",
    "    return np.random.normal(loc=0, scale=1, size=(num_of_samples, sample_size))"
   ]
  },
  {
   "cell_type": "code",
   "execution_count": 7,
   "metadata": {},
   "outputs": [],
   "source": [
    "# Generator function - take in one sample of random data\n",
    "def generator(Z):\n",
    "    # create a sequential model\n",
    "    model = Sequential()\n",
    "    \n",
    "    # Input and layer 1\n",
    "    model.add(Dense(784, input_shape = (100,)))\n",
    "    model.add(Reshape(target_shape=(7,7,16)))\n",
    "    model.add(BatchNormalization())\n",
    "    model.add(LeakyReLU(alpha=0.01))\n",
    "    \n",
    "    # Conv 1\n",
    "    model.add(Conv2DTranspose(32,kernel_size=5, strides=2, padding='same'))\n",
    "    model.add(BatchNormalization())\n",
    "    model.add(LeakyReLU(alpha=0.01))\n",
    "    \n",
    "    # Conv 2\n",
    "    model.add(Conv2DTranspose(1, kernel_size=5, strides=2, padding='same'))\n",
    "    model.add(Activation('tanh'))\n",
    "    \n",
    "    # model name\n",
    "    model.name='generator'\n",
    "    \n",
    "    # print the structure of the model\n",
    "    print(model.summary())\n",
    "    \n",
    "    # output of the model\n",
    "    return model"
   ]
  },
  {
   "cell_type": "code",
   "execution_count": 8,
   "metadata": {},
   "outputs": [],
   "source": [
    "# discriminator - takes in an image, outputs probability that it is real or fake\n",
    "def discriminator(X):\n",
    "    # create a sequential model\n",
    "    model = Sequential()\n",
    "    \n",
    "    # Conv 1\n",
    "    model.add(Conv2D(32, kernel_size=5, strides=2, padding='same', input_shape = (28,28,1)))\n",
    "    model.add(LeakyReLU(alpha=0.01))\n",
    "    \n",
    "    # Conv 2\n",
    "    model.add(Conv2D(16, kernel_size=5, strides=2, padding='same'))\n",
    "    model.add(BatchNormalization())\n",
    "    model.add(LeakyReLU(alpha=0.01))\n",
    "    \n",
    "    # Fully-connected layer\n",
    "    model.add(Flatten())\n",
    "    model.add(Dense(784))\n",
    "    model.add(BatchNormalization())\n",
    "    model.add(LeakyReLU(alpha=0.01))\n",
    "    \n",
    "    \n",
    "    # output\n",
    "    model.add(Dense(1))\n",
    "    model.add(Activation('sigmoid'))\n",
    "    \n",
    "    \n",
    "    # model name \n",
    "    model.name='discriminator'\n",
    "    \n",
    "    # print the structure of the model\n",
    "    print(model.summary())\n",
    "    \n",
    "    # output of the model\n",
    "    return model\n",
    "    "
   ]
  },
  {
   "cell_type": "code",
   "execution_count": 9,
   "metadata": {},
   "outputs": [],
   "source": [
    "# setting whether the model can be trained (True) or not (False)\n",
    "def set_training_status(model, status):\n",
    "    for layer in model.layers:\n",
    "        layer.trainable = status\n"
   ]
  },
  {
   "cell_type": "code",
   "execution_count": 10,
   "metadata": {},
   "outputs": [],
   "source": [
    "# preprocessing function for the mnist data \n",
    "def preprocess(x):\n",
    "    x = x.reshape(-1,28,28,1)\n",
    "    x = np.float64(x)\n",
    "    x = (x / 255 - 0.5) * 2\n",
    "    x = np.clip(x, -1, 1)\n",
    "    return x"
   ]
  },
  {
   "cell_type": "code",
   "execution_count": 11,
   "metadata": {},
   "outputs": [],
   "source": [
    "# deprocessing function for viewing images\n",
    "def deprocess(x):\n",
    "    x = (x / 2 + 1) * 255\n",
    "    x = np.clip(x, 0, 255)\n",
    "    x = np.uint8(x)\n",
    "    x = x.reshape(28, 28)\n",
    "    return x"
   ]
  },
  {
   "cell_type": "code",
   "execution_count": 12,
   "metadata": {},
   "outputs": [
    {
     "data": {
      "image/png": "[encoded data removed]",
      "text/plain": [
       "<Figure size 720x576 with 20 Axes>"
      ]
     },
     "metadata": {},
     "output_type": "display_data"
    }
   ],
   "source": [
    "# deprocessing output test\n",
    "deprocess_test = noise_creator(20,784)\n",
    "deprocess_test = preprocess(deprocess_test)\n",
    "plt.figure(figsize=(10,8))\n",
    "for i in range(20):\n",
    "    img = deprocess(deprocess_test[i])\n",
    "    plt.subplot(4, 5, i+1)\n",
    "    plt.imshow(img, cmap='gray')\n",
    "    plt.xticks([])\n",
    "    plt.yticks([])\n",
    "plt.show()"
   ]
  },
  {
   "cell_type": "code",
   "execution_count": 13,
   "metadata": {},
   "outputs": [],
   "source": [
    "# creating labels for the data\n",
    "def make_labels(rows):\n",
    "    return np.random.uniform(low=0.0, high=0.1, size=(rows,1)), np.random.uniform(low=0.9, high=1.0, size=(rows,1))"
   ]
  },
  {
   "cell_type": "code",
   "execution_count": 14,
   "metadata": {},
   "outputs": [
    {
     "name": "stdout",
     "output_type": "stream",
     "text": [
      "_________________________________________________________________\n",
      "Layer (type)                 Output Shape              Param #   \n",
      "=================================================================\n",
      "dense_1 (Dense)              (None, 784)               79184     \n",
      "_________________________________________________________________\n",
      "reshape_1 (Reshape)          (None, 7, 7, 16)          0         \n",
      "_________________________________________________________________\n",
      "batch_normalization_1 (Batch (None, 7, 7, 16)          64        \n",
      "_________________________________________________________________\n",
      "leaky_re_lu_1 (LeakyReLU)    (None, 7, 7, 16)          0         \n",
      "_________________________________________________________________\n",
      "conv2d_transpose_1 (Conv2DTr (None, 14, 14, 32)        12832     \n",
      "_________________________________________________________________\n",
      "batch_normalization_2 (Batch (None, 14, 14, 32)        128       \n",
      "_________________________________________________________________\n",
      "leaky_re_lu_2 (LeakyReLU)    (None, 14, 14, 32)        0         \n",
      "_________________________________________________________________\n",
      "conv2d_transpose_2 (Conv2DTr (None, 28, 28, 1)         801       \n",
      "_________________________________________________________________\n",
      "activation_1 (Activation)    (None, 28, 28, 1)         0         \n",
      "=================================================================\n",
      "Total params: 93,009\n",
      "Trainable params: 92,913\n",
      "Non-trainable params: 96\n",
      "_________________________________________________________________\n",
      "None\n",
      "_________________________________________________________________\n",
      "Layer (type)                 Output Shape              Param #   \n",
      "=================================================================\n",
      "conv2d_1 (Conv2D)            (None, 14, 14, 32)        832       \n",
      "_________________________________________________________________\n",
      "leaky_re_lu_3 (LeakyReLU)    (None, 14, 14, 32)        0         \n",
      "_________________________________________________________________\n",
      "conv2d_2 (Conv2D)            (None, 7, 7, 16)          12816     \n",
      "_________________________________________________________________\n",
      "batch_normalization_3 (Batch (None, 7, 7, 16)          64        \n",
      "_________________________________________________________________\n",
      "leaky_re_lu_4 (LeakyReLU)    (None, 7, 7, 16)          0         \n",
      "_________________________________________________________________\n",
      "flatten_1 (Flatten)          (None, 784)               0         \n",
      "_________________________________________________________________\n",
      "dense_2 (Dense)              (None, 784)               615440    \n",
      "_________________________________________________________________\n",
      "batch_normalization_4 (Batch (None, 784)               3136      \n",
      "_________________________________________________________________\n",
      "leaky_re_lu_5 (LeakyReLU)    (None, 784)               0         \n",
      "_________________________________________________________________\n",
      "dense_3 (Dense)              (None, 1)                 785       \n",
      "_________________________________________________________________\n",
      "activation_2 (Activation)    (None, 1)                 0         \n",
      "=================================================================\n",
      "Total params: 633,073\n",
      "Trainable params: 631,473\n",
      "Non-trainable params: 1,600\n",
      "_________________________________________________________________\n",
      "None\n",
      "_________________________________________________________________\n",
      "Layer (type)                 Output Shape              Param #   \n",
      "=================================================================\n",
      "generator (Sequential)       (None, 28, 28, 1)         93009     \n",
      "_________________________________________________________________\n",
      "discriminator (Sequential)   (None, 1)                 633073    \n",
      "=================================================================\n",
      "Total params: 726,082\n",
      "Trainable params: 724,386\n",
      "Non-trainable params: 1,696\n",
      "_________________________________________________________________\n"
     ]
    }
   ],
   "source": [
    "# placeholder variables\n",
    "Z_placeholder = K.placeholder(shape=(None,100))\n",
    "X_placeholder = K.placeholder(shape=(28,28,1))\n",
    "\n",
    "# declaring generator and discriminator\n",
    "G_sample = generator(Z_placeholder)\n",
    "D_sample = discriminator(X_placeholder)\n",
    "\n",
    "# creating gan model with shared weights\n",
    "gan = Sequential([\n",
    "    G_sample,\n",
    "    D_sample\n",
    "])\n",
    "\n",
    "gan.summary()"
   ]
  },
  {
   "cell_type": "code",
   "execution_count": 15,
   "metadata": {},
   "outputs": [
    {
     "name": "stdout",
     "output_type": "stream",
     "text": [
      "Epoch:   1/100 Discriminator Loss: 3.7887 Generator Loss: 1.7404\n",
      "Epoch:   2/100 Discriminator Loss: 4.1608 Generator Loss: 3.4785\n",
      "Epoch:   3/100 Discriminator Loss: 7.5889 Generator Loss: 4.9930\n",
      "Epoch:   4/100 Discriminator Loss: 9.6267 Generator Loss: 2.6247\n",
      "Epoch:   5/100 Discriminator Loss: 6.9458 Generator Loss: 15.0630\n",
      "Epoch:   6/100 Discriminator Loss: 24.8376 Generator Loss: 0.5830\n",
      "Epoch:   7/100 Discriminator Loss: 15.2910 Generator Loss: 3.0282\n",
      "Epoch:   8/100 Discriminator Loss: 7.7170 Generator Loss: 2.2713\n",
      "Epoch:   9/100 Discriminator Loss: 4.2658 Generator Loss: 3.5755\n",
      "Epoch:  10/100 Discriminator Loss: 10.7434 Generator Loss: 3.3079\n",
      "Epoch:  11/100 Discriminator Loss: 15.8028 Generator Loss: 11.8755\n",
      "Epoch:  12/100 Discriminator Loss: 23.0153 Generator Loss: 0.4622\n",
      "Epoch:  13/100 Discriminator Loss: 16.0075 Generator Loss: 4.9260\n",
      "Epoch:  14/100 Discriminator Loss: 13.1208 Generator Loss: 5.7131\n",
      "Epoch:  15/100 Discriminator Loss: 14.0594 Generator Loss: 1.3139\n",
      "Epoch:  16/100 Discriminator Loss: 26.0515 Generator Loss: 0.8726\n",
      "Epoch:  17/100 Discriminator Loss: 25.2941 Generator Loss: 0.8890\n",
      "Epoch:  18/100 Discriminator Loss: 10.4401 Generator Loss: 4.7129\n",
      "Epoch:  19/100 Discriminator Loss: 9.5999 Generator Loss: 11.5196\n",
      "Epoch:  20/100 Discriminator Loss: 7.6362 Generator Loss: 4.3244\n",
      "Epoch:  21/100 Discriminator Loss: 10.0045 Generator Loss: 8.0989\n",
      "Epoch:  22/100 Discriminator Loss: 8.2636 Generator Loss: 5.2324\n",
      "Epoch:  23/100 Discriminator Loss: 2.1504 Generator Loss: 2.6023\n",
      "Epoch:  24/100 Discriminator Loss: 2.4291 Generator Loss: 2.8471\n",
      "Epoch:  25/100 Discriminator Loss: 2.2709 Generator Loss: 2.7718\n",
      "Epoch:  26/100 Discriminator Loss: 3.0293 Generator Loss: 3.3076\n",
      "Epoch:  27/100 Discriminator Loss: 2.8913 Generator Loss: 2.7143\n",
      "Epoch:  28/100 Discriminator Loss: 2.5901 Generator Loss: 2.7047\n",
      "Epoch:  29/100 Discriminator Loss: 2.6445 Generator Loss: 2.6597\n",
      "Epoch:  30/100 Discriminator Loss: 2.6155 Generator Loss: 2.9246\n",
      "Epoch:  31/100 Discriminator Loss: 2.5862 Generator Loss: 2.6650\n",
      "Epoch:  32/100 Discriminator Loss: 2.5252 Generator Loss: 2.8922\n",
      "Epoch:  33/100 Discriminator Loss: 1.8462 Generator Loss: 2.2091\n",
      "Epoch:  34/100 Discriminator Loss: 1.5796 Generator Loss: 1.6501\n",
      "Epoch:  35/100 Discriminator Loss: 3.0232 Generator Loss: 3.8782\n",
      "Epoch:  36/100 Discriminator Loss: 1.5250 Generator Loss: 1.8573\n",
      "Epoch:  37/100 Discriminator Loss: 1.5568 Generator Loss: 1.8823\n",
      "Epoch:  38/100 Discriminator Loss: 1.8675 Generator Loss: 1.9929\n",
      "Epoch:  39/100 Discriminator Loss: 2.6754 Generator Loss: 2.7223\n",
      "Epoch:  40/100 Discriminator Loss: 1.6010 Generator Loss: 2.0310\n",
      "Epoch:  41/100 Discriminator Loss: 2.7501 Generator Loss: 3.3902\n",
      "Epoch:  42/100 Discriminator Loss: 2.5256 Generator Loss: 2.5124\n",
      "Epoch:  43/100 Discriminator Loss: 2.6290 Generator Loss: 2.8651\n",
      "Epoch:  44/100 Discriminator Loss: 1.6318 Generator Loss: 2.1487\n",
      "Epoch:  45/100 Discriminator Loss: 1.5623 Generator Loss: 2.0064\n",
      "Epoch:  46/100 Discriminator Loss: 2.5905 Generator Loss: 2.7584\n",
      "Epoch:  47/100 Discriminator Loss: 1.0990 Generator Loss: 1.6184\n",
      "Epoch:  48/100 Discriminator Loss: 1.6697 Generator Loss: 1.5172\n",
      "Epoch:  49/100 Discriminator Loss: 2.8235 Generator Loss: 2.7939\n",
      "Epoch:  50/100 Discriminator Loss: 1.7466 Generator Loss: 1.4121\n",
      "Epoch:  51/100 Discriminator Loss: 1.6101 Generator Loss: 1.9551\n",
      "Epoch:  52/100 Discriminator Loss: 1.8239 Generator Loss: 2.0884\n",
      "Epoch:  53/100 Discriminator Loss: 2.2096 Generator Loss: 2.7896\n",
      "Epoch:  54/100 Discriminator Loss: 2.4635 Generator Loss: 2.7550\n",
      "Epoch:  55/100 Discriminator Loss: 1.7736 Generator Loss: 1.4327\n",
      "Epoch:  56/100 Discriminator Loss: 1.5979 Generator Loss: 1.7473\n",
      "Epoch:  57/100 Discriminator Loss: 2.1140 Generator Loss: 3.0228\n",
      "Epoch:  58/100 Discriminator Loss: 1.5365 Generator Loss: 2.0911\n",
      "Epoch:  59/100 Discriminator Loss: 1.9230 Generator Loss: 2.3329\n",
      "Epoch:  60/100 Discriminator Loss: 2.0111 Generator Loss: 3.2498\n",
      "Epoch:  61/100 Discriminator Loss: 2.3459 Generator Loss: 2.5047\n",
      "Epoch:  62/100 Discriminator Loss: 1.4826 Generator Loss: 1.1781\n",
      "Epoch:  63/100 Discriminator Loss: 3.0327 Generator Loss: 3.1440\n",
      "Epoch:  64/100 Discriminator Loss: 2.8796 Generator Loss: 3.2063\n",
      "Epoch:  65/100 Discriminator Loss: 3.3039 Generator Loss: 3.2199\n",
      "Epoch:  66/100 Discriminator Loss: 1.6858 Generator Loss: 2.2565\n",
      "Epoch:  67/100 Discriminator Loss: 2.1737 Generator Loss: 2.7948\n",
      "Epoch:  68/100 Discriminator Loss: 2.7452 Generator Loss: 2.9208\n",
      "Epoch:  69/100 Discriminator Loss: 2.8463 Generator Loss: 3.6788\n",
      "Epoch:  70/100 Discriminator Loss: 1.8306 Generator Loss: 2.2020\n",
      "Epoch:  71/100 Discriminator Loss: 3.4021 Generator Loss: 3.6785\n",
      "Epoch:  72/100 Discriminator Loss: 2.2327 Generator Loss: 2.9939\n",
      "Epoch:  73/100 Discriminator Loss: 3.0129 Generator Loss: 3.1352\n",
      "Epoch:  74/100 Discriminator Loss: 2.3483 Generator Loss: 2.9154\n",
      "Epoch:  75/100 Discriminator Loss: 2.4521 Generator Loss: 3.5568\n",
      "Epoch:  76/100 Discriminator Loss: 2.2756 Generator Loss: 2.4454\n",
      "Epoch:  77/100 Discriminator Loss: 2.8756 Generator Loss: 2.9264\n",
      "Epoch:  78/100 Discriminator Loss: 4.0801 Generator Loss: 3.9027\n",
      "Epoch:  79/100 Discriminator Loss: 2.1121 Generator Loss: 2.5780\n",
      "Epoch:  80/100 Discriminator Loss: 3.3443 Generator Loss: 3.2961\n",
      "Epoch:  81/100 Discriminator Loss: 2.0384 Generator Loss: 2.1405\n",
      "Epoch:  82/100 Discriminator Loss: 1.3796 Generator Loss: 1.4496\n",
      "Epoch:  83/100 Discriminator Loss: 1.9022 Generator Loss: 2.6904\n",
      "Epoch:  84/100 Discriminator Loss: 1.2657 Generator Loss: 0.8161\n",
      "Epoch:  85/100 Discriminator Loss: 2.9756 Generator Loss: 4.2223\n",
      "Epoch:  86/100 Discriminator Loss: 1.6377 Generator Loss: 2.3536\n",
      "Epoch:  87/100 Discriminator Loss: 4.4847 Generator Loss: 4.9865\n",
      "Epoch:  88/100 Discriminator Loss: 4.2429 Generator Loss: 4.4620\n",
      "Epoch:  89/100 Discriminator Loss: 3.1635 Generator Loss: 3.8157\n",
      "Epoch:  90/100 Discriminator Loss: 2.0400 Generator Loss: 2.4043\n",
      "Epoch:  91/100 Discriminator Loss: 3.1329 Generator Loss: 3.1148\n",
      "Epoch:  92/100 Discriminator Loss: 2.5480 Generator Loss: 3.5579\n",
      "Epoch:  93/100 Discriminator Loss: 4.3787 Generator Loss: 4.9364\n",
      "Epoch:  94/100 Discriminator Loss: 2.4625 Generator Loss: 2.6452\n",
      "Epoch:  95/100 Discriminator Loss: 3.6408 Generator Loss: 4.1448\n",
      "Epoch:  96/100 Discriminator Loss: 1.9857 Generator Loss: 2.0119\n",
      "Epoch:  97/100 Discriminator Loss: 2.8003 Generator Loss: 3.2987\n",
      "Epoch:  98/100 Discriminator Loss: 2.2028 Generator Loss: 2.9630\n",
      "Epoch:  99/100 Discriminator Loss: 3.5228 Generator Loss: 4.3734\n",
      "Epoch: 100/100 Discriminator Loss: 3.4800 Generator Loss: 4.2389\n"
     ]
    }
   ],
   "source": [
    "%%capture cap --no-stdout\n",
    "\n",
    "# hyper parameters\n",
    "sample_size = 100\n",
    "batch_size = 128\n",
    "eval_size = 16\n",
    "epochs = 100\n",
    "g_learning_rate = 0.0001\n",
    "d_learning_rate = 0.001\n",
    "g_beta = 0.9\n",
    "d_beta = 0.9\n",
    "\n",
    "# compiling the model\n",
    "D_sample.compile(optimizer=Adam(lr=d_learning_rate, beta_1=d_beta), loss='binary_crossentropy')\n",
    "gan.compile(optimizer=Adam(lr=g_learning_rate, beta_1=g_beta), loss='binary_crossentropy')\n",
    "\n",
    "\n",
    "# variables for data\n",
    "x_train_processed = preprocess(x_train)\n",
    "x_test_processed = preprocess(x_test)\n",
    "\n",
    "y_train_real, y_train_fake = make_labels(batch_size)\n",
    "y_eval_real,  y_eval_fake  = make_labels(eval_size)\n",
    "\n",
    "losses = []\n",
    "\n",
    "# training for-loop\n",
    "for e in range(epochs):\n",
    "    for i in range(len(x_train_processed)//batch_size):\n",
    "        # the real mnist images\n",
    "        x_batch_real = x_train_processed[i * batch_size: (i+1)*batch_size]\n",
    "        \n",
    "        # noise samples and corresponding images created by generator\n",
    "        noise_samples = noise_creator(batch_size, sample_size)\n",
    "        x_batch_fake = G_sample.predict_on_batch(noise_samples)\n",
    "        \n",
    "        # training the discriminator to detect real and fake images\n",
    "        set_training_status(D_sample, True)\n",
    "        D_sample.train_on_batch(x_batch_real, y_train_real)\n",
    "        D_sample.train_on_batch(x_batch_fake, y_train_fake)\n",
    "        \n",
    "        # training the generator (using the combined gan model)\n",
    "        set_training_status(D_sample, False)\n",
    "        gan.train_on_batch(noise_samples, y_train_real)\n",
    "        \n",
    "    # evaluate\n",
    "    x_eval_real = x_train_processed[np.random.choice(len(x_train_processed), eval_size, replace=False)]\n",
    "    \n",
    "    noise_samples = noise_creator(eval_size, sample_size)\n",
    "    x_eval_fake = G_sample.predict_on_batch(noise_samples)\n",
    "        \n",
    "    d_loss = D_sample.test_on_batch(x_eval_real, y_eval_real)\n",
    "    d_loss += D_sample.test_on_batch(x_eval_fake, y_eval_fake)\n",
    "    g_loss = gan.test_on_batch(noise_samples, y_eval_real) # want fakes to be realistic\n",
    "    \n",
    "    losses.append((d_loss, g_loss))\n",
    "    \n",
    "    print(\"Epoch: {:>3}/{} Discriminator Loss: {:>6.4f} Generator Loss: {:>6.4f}\".format(\n",
    "        e+1, epochs, d_loss, g_loss))"
   ]
  },
  {
   "cell_type": "code",
   "execution_count": 23,
   "metadata": {},
   "outputs": [
    {
     "data": {
      "image/png": "[encoded data removed]",
      "text/plain": [
       "<Figure size 432x288 with 1 Axes>"
      ]
     },
     "metadata": {
      "needs_background": "light"
     },
     "output_type": "display_data"
    }
   ],
   "source": [
    "losses = np.array(losses)\n",
    "\n",
    "fig, ax = plt.subplots()\n",
    "plt.plot(losses.T[0], label='Discriminator')\n",
    "plt.plot(losses.T[1], label='Generator')\n",
    "plt.title(\"Training Losses\")\n",
    "plt.legend()\n",
    "plt.show()"
   ]
  },
  {
   "cell_type": "code",
   "execution_count": 24,
   "metadata": {},
   "outputs": [
    {
     "data": {
      "image/png": "[encoded data removed]",
      "text/plain": [
       "<Figure size 720x576 with 20 Axes>"
      ]
     },
     "metadata": {},
     "output_type": "display_data"
    }
   ],
   "source": [
    "post_training_test = noise_creator(40,sample_size)\n",
    "generated_digits = G_sample.predict(post_training_test)\n",
    "\n",
    "plt.figure(figsize=(10, 8))\n",
    "for i in range(20):\n",
    "    img = deprocess(generated_digits[i])\n",
    "    plt.subplot(4, 5, i+1)\n",
    "    plt.imshow(img, cmap='gray')\n",
    "    plt.xticks([])\n",
    "    plt.yticks([])\n",
    "plt.tight_layout()\n",
    "plt.show()\n",
    "#plt.savefig('2nd_gen.png')"
   ]
  },
  {
   "cell_type": "code",
   "execution_count": 18,
   "metadata": {},
   "outputs": [],
   "source": [
    "# def get_gradients(model):\n",
    "#     \"\"\"Return the gradient of every trainable weight in model\n",
    "\n",
    "#     Parameters\n",
    "#     -----------\n",
    "#     model : a keras model instance\n",
    "\n",
    "#     First, find all tensors which are trainable in the model. Surprisingly,\n",
    "#     `model.trainable_weights` will return tensors for which\n",
    "#     trainable=False has been set on their layer (last time I checked), hence the extra check.\n",
    "#     Next, get the gradients of the loss with respect to the weights.\n",
    "\n",
    "#     \"\"\"\n",
    "#     weights = [tensor for tensor in model.trainable_weights if model.get_layer(tensor.name[:-2]).trainable]\n",
    "#     optimizer = model.optimizer\n",
    "\n",
    "#     return optimizer.get_gradients(model.total_loss, weights)"
   ]
  },
  {
   "cell_type": "code",
   "execution_count": 19,
   "metadata": {},
   "outputs": [],
   "source": [
    "# gradients = np.array(gradients)\n",
    "# print(gradients)\n",
    "\n",
    "# # fig, ax = plt.subplots()\n",
    "# # plt.plot(gradients.T[0], label='Discriminator')\n",
    "# # plt.plot(gradients.T[1], label='Generator')\n",
    "# # plt.title(\"Training Gradients\")\n",
    "# # plt.legend()\n",
    "# # plt.show()"
   ]
  },
  {
   "cell_type": "code",
   "execution_count": 20,
   "metadata": {},
   "outputs": [],
   "source": [
    "# Needs adaptation\n",
    "\n",
    "# r_logits, r_rep = D_sample(X)\n",
    "# f_logits, g_rep = D_Sample(G_sample,reuse=True)\n",
    "\n",
    "# disc_loss = tef.reduce_mean(tf.nn.sigmoid_cross_entropy_with_logits(logits=r_logits,labels=tf.ones_like(r_logits)) + tf.nn.sigmoid_cross_entropy_with_logits(logits=f_logits,labels=tf.zeros_like(f_logits)))\n",
    "# gen_loss = tf.reduce_mean(tf.nn.sigmoid_cross_entropy_with_logits(logits=f_logits,labels=tf.ones_like(f_logits)))"
   ]
  },
  {
   "cell_type": "code",
   "execution_count": 21,
   "metadata": {},
   "outputs": [],
   "source": [
    "# gen_vars = tf.get_collection(tf.GraphKeys.GLOBAL_VARIABLES,scope=\"GAN/Generator\")\n",
    "# disc_vars = tf.get_collection(tf.GraphKeys.GLOBAL_VARIABLES,scope=\"GAN/Discriminator\")\n",
    "\n",
    "# gen_step = tf.train.RMSPropOptimizer(learning_rate=0.001).minimize(gen_loss,var_list = gen_vars) # G Train step\n",
    "# disc_step = tf.train.RMSPropOptimizer(learning_rate=0.001).minimize(disc_loss,var_list = disc_vars) # D Train step\n",
    "\n",
    "# sess = tf.Session(config=config)\n",
    "# sess = tf.Session()\n",
    "# tf.global_variables_initializer().run(session=sess)\n",
    "\n",
    "# batch_size = 256\n",
    "# nd_steps = 10\n",
    "# ng_steps = 10\n",
    "\n",
    "# x_plot = sample_data(n=batch_size)\n",
    "\n",
    "# f = open('loss_logs.csv','w')\n",
    "# f.write('Iteration,Discriminator Loss,Generator Loss\\n')"
   ]
  },
  {
   "cell_type": "code",
   "execution_count": 22,
   "metadata": {},
   "outputs": [],
   "source": [
    "# for i in range(10001):\n",
    "#     X_batch = sample_data(n=batch_size)\n",
    "    \n",
    "#     # 28 x 28 pixel images\n",
    "#     Z_batch = sample_Z(batch_size, 28, 28)\n",
    "\n",
    "#     for _ in range(nd_steps):\n",
    "#         _, dloss = sess.run([disc_step, disc_loss], feed_dict={X: X_batch, Z: Z_batch})\n",
    "#     rrep_dstep, grep_dstep = sess.run([r_rep, g_rep], feed_dict={X: X_batch, Z: Z_batch})\n",
    "\n",
    "#     for _ in range(ng_steps):\n",
    "#         _, gloss = sess.run([gen_step, gen_loss], feed_dict={Z: Z_batch})\n",
    "\n",
    "#     rrep_gstep, grep_gstep = sess.run([r_rep, g_rep], feed_dict={X: X_batch, Z: Z_batch})\n",
    "\n",
    "#     print(\"Iterations: %d\\t Discriminator loss: %.4f\\t Generator loss: %.4f\" % (i,dloss,gloss))\n",
    "#     if i%10 == 0:\n",
    "#         f.write(\"%d,%f,%f\\n\"%(i,dloss,gloss))\n",
    "\n",
    "#     if i%1000 == 0:\n",
    "#         # Iterations gif\n",
    "#         plt.figure()\n",
    "#         g_plot = sess.run(G_sample, feed_dict={Z: Z_batch})\n",
    "#         xax = plt.scatter(x_plot[:,0], x_plot[:,1])\n",
    "#         gax = plt.scatter(g_plot[:,0],g_plot[:,1])\n",
    "#         plt.xlim(-60, 60)\n",
    "#         plt.ylim(-50, 2600)\n",
    "#         plt.legend((xax,gax), (\"Real Data\",\"Generated Data\"))\n",
    "#         plt.title('Samples at Iteration %d'%i)\n",
    "#         plt.tight_layout()\n",
    "#         plt.savefig('../plots/iterations/iteration_%d.png'%i)\n",
    "#         plt.close()\n",
    "\n",
    "#         # Feature transform gif\n",
    "#         plt.figure()\n",
    "#         rrd = plt.scatter(rrep_dstep[:,0], rrep_dstep[:,1], alpha=0.5)\n",
    "#         rrg = plt.scatter(rrep_gstep[:,0], rrep_gstep[:,1], alpha=0.5)\n",
    "#         grd = plt.scatter(grep_dstep[:,0], grep_dstep[:,1], alpha=0.5)\n",
    "#         grg = plt.scatter(grep_gstep[:,0], grep_gstep[:,1], alpha=0.5)\n",
    "#         plt.xlim(-200, 200)\n",
    "#         plt.ylim(-40, 40)\n",
    "#         plt.legend((rrd, rrg, grd, grg), (\"Real Data Before G step\",\"Real Data After G step\",\n",
    "#                                \"Generated Data Before G step\",\"Generated Data After G step\"))\n",
    "#         plt.title('Transformed Features at Iteration %d'%i)\n",
    "#         plt.tight_layout()\n",
    "#         plt.savefig('../plots/features/feature_transform_%d.png'%i)\n",
    "#         plt.close()\n",
    "\n",
    "#         # Feature transform of centroids gif\n",
    "#         plt.figure()\n",
    "#         rrdc = plt.scatter(np.mean(rrep_dstep[:,0]), np.mean(rrep_dstep[:,1]),s=100, alpha=0.5)\n",
    "#         rrgc = plt.scatter(np.mean(rrep_gstep[:,0]), np.mean(rrep_gstep[:,1]),s=100, alpha=0.5)\n",
    "#         grdc = plt.scatter(np.mean(grep_dstep[:,0]), np.mean(grep_dstep[:,1]),s=100, alpha=0.5)\n",
    "#         grgc = plt.scatter(np.mean(grep_gstep[:,0]), np.mean(grep_gstep[:,1]),s=100, alpha=0.5)\n",
    "#         plt.xlim(-50, 50)\n",
    "#         plt.ylim(-50, 50)\n",
    "#         plt.legend((rrdc, rrgc, grdc, grgc), (\"Real Data Before G step\",\"Real Data After G step\",\n",
    "#                                \"Generated Data Before G step\",\"Generated Data After G step\"))\n",
    "\n",
    "#         plt.title('Centroid of Transformed Features at Iteration %d'%i)\n",
    "#         plt.tight_layout()\n",
    "#         plt.savefig('../plots/features/feature_transform_centroid_%d.png'%i)\n",
    "#         plt.close()\n",
    "\n",
    "# f.close()"
   ]
  }
 ],
 "metadata": {
  "kernelspec": {
   "display_name": "Python 3",
   "language": "python",
   "name": "python3"
  },
  "language_info": {
   "codemirror_mode": {
    "name": "ipython",
    "version": 3
   },
   "file_extension": ".py",
   "mimetype": "text/x-python",
   "name": "python",
   "nbconvert_exporter": "python",
   "pygments_lexer": "ipython3",
   "version": "3.6.8"
  }
 },
 "nbformat": 4,
 "nbformat_minor": 2
}
