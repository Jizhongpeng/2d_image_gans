{
 "cells": [
  {
   "cell_type": "code",
   "execution_count": 1061,
   "metadata": {},
   "outputs": [
    {
     "name": "stdout",
     "output_type": "stream",
     "text": [
      "Once deleted, variables cannot be recovered. Proceed (y/[n])? y\n"
     ]
    }
   ],
   "source": [
    "%reset"
   ]
  },
  {
   "cell_type": "code",
   "execution_count": 1062,
   "metadata": {},
   "outputs": [],
   "source": [
    "import tensorflow as tf\n",
    "import numpy as np\n",
    "import seaborn as sb\n",
    "import matplotlib.pyplot as plt\n",
    "sb.set()\n",
    "\n",
    "# Keras imports\n",
    "import keras\n",
    "import keras.backend as K\n",
    "from keras.models import Sequential\n",
    "from keras.layers import Dense, Conv2D, Conv2DTranspose, Flatten, Activation, LeakyReLU, Reshape, BatchNormalization\n",
    "from keras.optimizers import RMSprop, Adam"
   ]
  },
  {
   "cell_type": "code",
   "execution_count": 1063,
   "metadata": {},
   "outputs": [],
   "source": [
    "# starting work on mnist branch.splitting the data into train/test. x = images, y = class 0-9;\n",
    "mnist = keras.datasets.mnist\n",
    "(x_train, y_train), (x_test, y_test) = mnist.load_data()"
   ]
  },
  {
   "cell_type": "code",
   "execution_count": 1064,
   "metadata": {},
   "outputs": [
    {
     "data": {
      "image/png": "[encoded data removed]",
      "text/plain": [
       "<Figure size 360x288 with 20 Axes>"
      ]
     },
     "metadata": {},
     "output_type": "display_data"
    },
    {
     "name": "stdout",
     "output_type": "stream",
     "text": [
      "mnist shape\n",
      "(60000, 28, 28)\n",
      "mnist shape: first dim\n",
      "60000\n",
      "mnist shape: second dim\n",
      "28\n"
     ]
    }
   ],
   "source": [
    "# display a sample of the mnist data\n",
    "plt.figure(figsize=(5, 4))\n",
    "for i in range(20):\n",
    "    plt.subplot(4, 5, i+1)\n",
    "    plt.imshow(x_train[i], cmap='gray')\n",
    "    plt.xticks([])\n",
    "    plt.yticks([])\n",
    "plt.tight_layout()\n",
    "plt.show()\n",
    "\n",
    "print('mnist shape')\n",
    "print(x_train.shape)\n",
    "print('mnist shape: first dim')\n",
    "print(x_train.shape[0])\n",
    "print('mnist shape: second dim')\n",
    "print(x_train.shape[1])"
   ]
  },
  {
   "cell_type": "code",
   "execution_count": 1065,
   "metadata": {},
   "outputs": [],
   "source": [
    "# Input noise to generator\n",
    "def noise_creator(num_of_samples, sample_size):\n",
    "    return np.random.normal(loc=0, scale=1, size=(num_of_samples, sample_size))"
   ]
  },
  {
   "cell_type": "code",
   "execution_count": 1066,
   "metadata": {},
   "outputs": [],
   "source": [
    "# Generator function - take in one sample of random data\n",
    "def generator(Z):\n",
    "    # create a sequential model\n",
    "    model = Sequential()\n",
    "    \n",
    "    # input and layer 1\n",
    "    model.add(Dense(784, input_shape = (100,)))\n",
    "    model.add(keras.layers.Reshape(target_shape=(7,7,16)))\n",
    "    model.add(keras.layers.BatchNormalization())\n",
    "    model.add(keras.layers.LeakyReLU(alpha=0.01))\n",
    "    \n",
    "    # Conv 1\n",
    "    model.add(keras.layers.Conv2DTranspose(32,kernel_size=5, strides=2, padding='same'))\n",
    "    model.add(keras.layers.BatchNormalization())\n",
    "    model.add(keras.layers.LeakyReLU(alpha=0.01))\n",
    "    \n",
    "    # Conv 2\n",
    "    model.add(keras.layers.Conv2DTranspose(1, kernel_size=5, strides=2, padding='same'))\n",
    "    model.add(Activation('tanh'))\n",
    "    \n",
    "    # model name\n",
    "    model.name='generator'\n",
    "    \n",
    "    # print the structure of the model\n",
    "    print(model.summary())\n",
    "    \n",
    "    # output of the model\n",
    "    return model"
   ]
  },
  {
   "cell_type": "code",
   "execution_count": 1074,
   "metadata": {},
   "outputs": [],
   "source": [
    "# discriminator - takes in an image, outputs probability that it is real or fake\n",
    "def discriminator():\n",
    "    \n",
    "    # create a sequential model\n",
    "    model = Sequential()\n",
    "    \n",
    "    # Conv 1\n",
    "    model.add(Conv2D(32, kernel_size=5, strides=2, padding='same', input_shape = (28,28,1)))\n",
    "    model.add(LeakyReLU(alpha=0.01))\n",
    "    \n",
    "    # Conv 2\n",
    "    model.add(keras.layers.Conv2D(16, kernel_size=5, strides=2, padding='same'))\n",
    "    model.add(keras.layers.BatchNormalization())\n",
    "    model.add(keras.layers.LeakyReLU(alpha=0.01))\n",
    "    \n",
    "    # Fully-connected layer\n",
    "    model.add(Flatten())\n",
    "    model.add(Dense(784))\n",
    "    model.add(BatchNormalization())\n",
    "    model.add(LeakyReLU(alpha=0.01))\n",
    "    \n",
    "    \n",
    "    # output\n",
    "    model.add(Dense(1))\n",
    "    model.add(Activation('sigmoid'))\n",
    "    \n",
    "    \n",
    "    # model name \n",
    "    model.name='discriminator'\n",
    "    \n",
    "    # print the structure of the model\n",
    "    print(model.summary())\n",
    "    \n",
    "    # output of the model\n",
    "    return model\n",
    "    "
   ]
  },
  {
   "cell_type": "code",
   "execution_count": 1075,
   "metadata": {},
   "outputs": [],
   "source": [
    "# making a model's layers trainable\n",
    "def make_trainable(model):\n",
    "    for layer in model.layers:\n",
    "        layer.trainable = True\n",
    "\n",
    "\n",
    "# making a model non-trainable by keeping its weights constant\n",
    "def make_non_trainable(model):\n",
    "    for layer in model.layers:\n",
    "        layer.trainable = False\n"
   ]
  },
  {
   "cell_type": "code",
   "execution_count": 1083,
   "metadata": {},
   "outputs": [],
   "source": [
    "# preprocessing function for the mnist data \n",
    "def preprocess(x):\n",
    "    x = x.reshape(-1,28,28,1)\n",
    "    x = np.float64(x)\n",
    "    x = (x / 255 - 0.5) * 2\n",
    "    x = np.clip(x, -1, 1)\n",
    "    return x"
   ]
  },
  {
   "cell_type": "code",
   "execution_count": 1084,
   "metadata": {},
   "outputs": [],
   "source": [
    "# deprocessing function for viewing images\n",
    "def deprocess(x):\n",
    "    x = (x / 2 + 1) * 255\n",
    "    x = np.clip(x, 0, 255)\n",
    "    x = np.uint8(x)\n",
    "    x = x.reshape(28, 28)\n",
    "    return x"
   ]
  },
  {
   "cell_type": "code",
   "execution_count": 1085,
   "metadata": {},
   "outputs": [
    {
     "data": {
      "image/png": "[encoded data removed]",
      "text/plain": [
       "<Figure size 720x576 with 20 Axes>"
      ]
     },
     "metadata": {},
     "output_type": "display_data"
    }
   ],
   "source": [
    "# deprocessing output test\n",
    "deprocess_test = noise_creator(20,784)\n",
    "deprocess_test = preprocess(deprocess_test)\n",
    "plt.figure(figsize=(10,8))\n",
    "for i in range(20):\n",
    "    img = deprocess(deprocess_test[i])\n",
    "    plt.subplot(4, 5, i+1)\n",
    "    plt.imshow(img, cmap='gray')\n",
    "    plt.xticks([])\n",
    "    plt.yticks([])\n",
    "plt.show()"
   ]
  },
  {
   "cell_type": "code",
   "execution_count": 1086,
   "metadata": {},
   "outputs": [
    {
     "name": "stdout",
     "output_type": "stream",
     "text": [
      "(array([[0.05076111],\n",
      "       [0.04735705],\n",
      "       [0.08899104],\n",
      "       [0.04504484],\n",
      "       [0.01625782],\n",
      "       [0.00700485],\n",
      "       [0.07528052],\n",
      "       [0.09907311],\n",
      "       [0.07950214],\n",
      "       [0.05171111]]), array([[0.9951634 ],\n",
      "       [0.9737878 ],\n",
      "       [0.9639374 ],\n",
      "       [0.9674092 ],\n",
      "       [0.96943871],\n",
      "       [0.91759531],\n",
      "       [0.99622878],\n",
      "       [0.91763926],\n",
      "       [0.94863782],\n",
      "       [0.91437924]]))\n"
     ]
    }
   ],
   "source": [
    "# creating labels for the data\n",
    "def make_labels(rows):\n",
    "    #return np.ones([size, 1]), np.zeros([size, 1])\n",
    "    return np.random.uniform(low=0.0, high=0.1, size=(rows,1)), np.random.uniform(low=0.9, high=1.0, size=(rows,1))\n",
    "b = make_labels(10)\n",
    "print(b)"
   ]
  },
  {
   "cell_type": "code",
   "execution_count": 1087,
   "metadata": {},
   "outputs": [
    {
     "name": "stdout",
     "output_type": "stream",
     "text": [
      "_________________________________________________________________\n",
      "Layer (type)                 Output Shape              Param #   \n",
      "=================================================================\n",
      "dense_1 (Dense)              (None, 784)               79184     \n",
      "_________________________________________________________________\n",
      "reshape_1 (Reshape)          (None, 7, 7, 16)          0         \n",
      "_________________________________________________________________\n",
      "batch_normalization_1 (Batch (None, 7, 7, 16)          64        \n",
      "_________________________________________________________________\n",
      "leaky_re_lu_1 (LeakyReLU)    (None, 7, 7, 16)          0         \n",
      "_________________________________________________________________\n",
      "conv2d_transpose_1 (Conv2DTr (None, 14, 14, 32)        12832     \n",
      "_________________________________________________________________\n",
      "batch_normalization_2 (Batch (None, 14, 14, 32)        128       \n",
      "_________________________________________________________________\n",
      "leaky_re_lu_2 (LeakyReLU)    (None, 14, 14, 32)        0         \n",
      "_________________________________________________________________\n",
      "conv2d_transpose_2 (Conv2DTr (None, 28, 28, 1)         801       \n",
      "_________________________________________________________________\n",
      "activation_1 (Activation)    (None, 28, 28, 1)         0         \n",
      "=================================================================\n",
      "Total params: 93,009\n",
      "Trainable params: 92,913\n",
      "Non-trainable params: 96\n",
      "_________________________________________________________________\n",
      "None\n",
      "_________________________________________________________________\n",
      "Layer (type)                 Output Shape              Param #   \n",
      "=================================================================\n",
      "conv2d_1 (Conv2D)            (None, 14, 14, 32)        832       \n",
      "_________________________________________________________________\n",
      "leaky_re_lu_3 (LeakyReLU)    (None, 14, 14, 32)        0         \n",
      "_________________________________________________________________\n",
      "conv2d_2 (Conv2D)            (None, 7, 7, 16)          12816     \n",
      "_________________________________________________________________\n",
      "batch_normalization_3 (Batch (None, 7, 7, 16)          64        \n",
      "_________________________________________________________________\n",
      "leaky_re_lu_4 (LeakyReLU)    (None, 7, 7, 16)          0         \n",
      "_________________________________________________________________\n",
      "flatten_1 (Flatten)          (None, 784)               0         \n",
      "_________________________________________________________________\n",
      "dense_2 (Dense)              (None, 784)               615440    \n",
      "_________________________________________________________________\n",
      "batch_normalization_4 (Batch (None, 784)               3136      \n",
      "_________________________________________________________________\n",
      "leaky_re_lu_5 (LeakyReLU)    (None, 784)               0         \n",
      "_________________________________________________________________\n",
      "dense_3 (Dense)              (None, 1)                 785       \n",
      "_________________________________________________________________\n",
      "activation_2 (Activation)    (None, 1)                 0         \n",
      "=================================================================\n",
      "Total params: 633,073\n",
      "Trainable params: 631,473\n",
      "Non-trainable params: 1,600\n",
      "_________________________________________________________________\n",
      "None\n",
      "_________________________________________________________________\n",
      "Layer (type)                 Output Shape              Param #   \n",
      "=================================================================\n",
      "generator (Sequential)       (None, 28, 28, 1)         93009     \n",
      "_________________________________________________________________\n",
      "discriminator (Sequential)   (None, 1)                 633073    \n",
      "=================================================================\n",
      "Total params: 726,082\n",
      "Trainable params: 724,386\n",
      "Non-trainable params: 1,696\n",
      "_________________________________________________________________\n"
     ]
    }
   ],
   "source": [
    "# clear backend\n",
    "K.clear_session()\n",
    "\n",
    "# placeholder variables\n",
    "Z_placeholder = K.placeholder(shape=(None,100))\n",
    "#X_placeholder = K.placeholder(shape=(28,28,1))\n",
    "\n",
    "# declaring generator and discriminator\n",
    "G_sample = generator(Z_placeholder)\n",
    "D_sample = discriminator()\n",
    "\n",
    "# creating gan model with shared weights\n",
    "gan = Sequential([\n",
    "    G_sample,\n",
    "    D_sample\n",
    "])\n",
    "\n",
    "gan.summary()"
   ]
  },
  {
   "cell_type": "code",
   "execution_count": 1089,
   "metadata": {},
   "outputs": [
    {
     "name": "stdout",
     "output_type": "stream",
     "text": [
      "Epoch:   1/10 Discriminator Loss: 1.5216 Generator Loss: 3.3260\n",
      "Epoch:   2/10 Discriminator Loss: 1.7768 Generator Loss: 0.5756\n",
      "Epoch:   3/10 Discriminator Loss: 2.4498 Generator Loss: 0.3275\n",
      "Epoch:   4/10 Discriminator Loss: 2.8057 Generator Loss: 0.2821\n",
      "Epoch:   5/10 Discriminator Loss: 2.9369 Generator Loss: 0.2534\n",
      "Epoch:   6/10 Discriminator Loss: 3.1688 Generator Loss: 0.2343\n",
      "Epoch:   7/10 Discriminator Loss: 4.1281 Generator Loss: 0.2344\n",
      "Epoch:   8/10 Discriminator Loss: 3.9279 Generator Loss: 0.2254\n",
      "Epoch:   9/10 Discriminator Loss: 3.8610 Generator Loss: 0.2288\n",
      "Epoch:  10/10 Discriminator Loss: 4.1921 Generator Loss: 0.2336\n"
     ]
    }
   ],
   "source": [
    "# hyper parameters\n",
    "sample_size = 100\n",
    "batch_size = 128\n",
    "eval_size = 16\n",
    "epochs = 10\n",
    "g_learning_rate = 0.0001\n",
    "d_learning_rate = 0.001\n",
    "\n",
    "# compiling the model\n",
    "D_sample.compile(optimizer=Adam(lr=d_learning_rate), loss='binary_crossentropy')\n",
    "gan.compile(optimizer=Adam(lr=g_learning_rate), loss='binary_crossentropy')\n",
    "\n",
    "\n",
    "# variables for data\n",
    "x_train_processed = preprocess(x_train)\n",
    "x_test_processed = preprocess(x_test)\n",
    "\n",
    "y_train_real, y_train_fake = make_labels(batch_size)\n",
    "y_eval_real,  y_eval_fake  = make_labels(eval_size)\n",
    "\n",
    "losses = []\n",
    "\n",
    "# training for-loop\n",
    "for e in range(epochs):\n",
    "    for i in range(len(x_train_processed)//batch_size):\n",
    "        # the real mnist images\n",
    "        x_batch_real = x_train_processed[i * batch_size: (i+1)*batch_size]\n",
    "        \n",
    "        # noise samples and corresponding images created by generator\n",
    "        noise_samples = noise_creator(batch_size, sample_size)\n",
    "        x_batch_fake = G_sample.predict_on_batch(noise_samples)\n",
    "        \n",
    "        # training the discriminator to detect real and fake images\n",
    "        make_trainable(D_sample)\n",
    "        D_sample.train_on_batch(x_batch_real, y_train_real)\n",
    "        D_sample.train_on_batch(x_batch_fake, y_train_fake)\n",
    "        \n",
    "        # training the generator (using the combined gan model)\n",
    "        make_non_trainable(D_sample)\n",
    "        gan.train_on_batch(noise_samples, y_train_real)\n",
    "        \n",
    "    # evaluate\n",
    "    x_eval_real = x_train_processed[np.random.choice(len(x_train_processed), eval_size, replace=False)]\n",
    "    \n",
    "    noise_samples = noise_creator(eval_size, sample_size)\n",
    "    x_eval_fake = G_sample.predict_on_batch(noise_samples)\n",
    "        \n",
    "    d_loss = D_sample.test_on_batch(x_eval_real, y_eval_real)\n",
    "    d_loss += D_sample.test_on_batch(x_eval_fake, y_eval_fake)\n",
    "    g_loss = gan.test_on_batch(noise_samples, y_eval_real) # want fakes to be realistic\n",
    "    \n",
    "    losses.append((d_loss, g_loss))\n",
    "    \n",
    "    print(\"Epoch: {:>3}/{} Discriminator Loss: {:>6.4f} Generator Loss: {:>6.4f}\".format(\n",
    "        e+1, epochs, d_loss, g_loss))"
   ]
  },
  {
   "cell_type": "code",
   "execution_count": 1090,
   "metadata": {},
   "outputs": [
    {
     "data": {
      "image/png": "[encoded data removed]",
      "text/plain": [
       "<Figure size 432x288 with 1 Axes>"
      ]
     },
     "metadata": {},
     "output_type": "display_data"
    }
   ],
   "source": [
    "losses = np.array(losses)\n",
    "\n",
    "fig, ax = plt.subplots()\n",
    "plt.plot(losses.T[0], label='Discriminator')\n",
    "plt.plot(losses.T[1], label='Generator')\n",
    "plt.title(\"Training Losses\")\n",
    "plt.legend()\n",
    "plt.show()"
   ]
  },
  {
   "cell_type": "code",
   "execution_count": 1091,
   "metadata": {},
   "outputs": [
    {
     "data": {
      "image/png": "[encoded data removed]",
      "text/plain": [
       "<Figure size 720x576 with 20 Axes>"
      ]
     },
     "metadata": {},
     "output_type": "display_data"
    }
   ],
   "source": [
    "post_training_test = noise_creator(40,sample_size)\n",
    "generated_digits = G_sample.predict(post_training_test)\n",
    "\n",
    "plt.figure(figsize=(10, 8))\n",
    "for i in range(20):\n",
    "    img = deprocess(generated_digits[i])\n",
    "    plt.subplot(4, 5, i+1)\n",
    "    plt.imshow(img, cmap='gray')\n",
    "    plt.xticks([])\n",
    "    plt.yticks([])\n",
    "plt.tight_layout()\n",
    "plt.show()\n",
    "#plt.savefig('2nd_gen.png')"
   ]
  },
  {
   "cell_type": "code",
   "execution_count": 965,
   "metadata": {},
   "outputs": [],
   "source": [
    "# def get_gradients(model):\n",
    "#     \"\"\"Return the gradient of every trainable weight in model\n",
    "\n",
    "#     Parameters\n",
    "#     -----------\n",
    "#     model : a keras model instance\n",
    "\n",
    "#     First, find all tensors which are trainable in the model. Surprisingly,\n",
    "#     `model.trainable_weights` will return tensors for which\n",
    "#     trainable=False has been set on their layer (last time I checked), hence the extra check.\n",
    "#     Next, get the gradients of the loss with respect to the weights.\n",
    "\n",
    "#     \"\"\"\n",
    "#     weights = [tensor for tensor in model.trainable_weights if model.get_layer(tensor.name[:-2]).trainable]\n",
    "#     optimizer = model.optimizer\n",
    "\n",
    "#     return optimizer.get_gradients(model.total_loss, weights)"
   ]
  },
  {
   "cell_type": "code",
   "execution_count": 969,
   "metadata": {},
   "outputs": [],
   "source": [
    "# gradients = np.array(gradients)\n",
    "# print(gradients)\n",
    "\n",
    "# # fig, ax = plt.subplots()\n",
    "# # plt.plot(gradients.T[0], label='Discriminator')\n",
    "# # plt.plot(gradients.T[1], label='Generator')\n",
    "# # plt.title(\"Training Gradients\")\n",
    "# # plt.legend()\n",
    "# # plt.show()"
   ]
  },
  {
   "cell_type": "code",
   "execution_count": null,
   "metadata": {},
   "outputs": [],
   "source": [
    "# Needs adaptation\n",
    "\n",
    "# r_logits, r_rep = D_sample(X)\n",
    "# f_logits, g_rep = D_Sample(G_sample,reuse=True)\n",
    "\n",
    "# disc_loss = tef.reduce_mean(tf.nn.sigmoid_cross_entropy_with_logits(logits=r_logits,labels=tf.ones_like(r_logits)) + tf.nn.sigmoid_cross_entropy_with_logits(logits=f_logits,labels=tf.zeros_like(f_logits)))\n",
    "# gen_loss = tf.reduce_mean(tf.nn.sigmoid_cross_entropy_with_logits(logits=f_logits,labels=tf.ones_like(f_logits)))"
   ]
  },
  {
   "cell_type": "code",
   "execution_count": null,
   "metadata": {},
   "outputs": [],
   "source": [
    "# gen_vars = tf.get_collection(tf.GraphKeys.GLOBAL_VARIABLES,scope=\"GAN/Generator\")\n",
    "# disc_vars = tf.get_collection(tf.GraphKeys.GLOBAL_VARIABLES,scope=\"GAN/Discriminator\")\n",
    "\n",
    "# gen_step = tf.train.RMSPropOptimizer(learning_rate=0.001).minimize(gen_loss,var_list = gen_vars) # G Train step\n",
    "# disc_step = tf.train.RMSPropOptimizer(learning_rate=0.001).minimize(disc_loss,var_list = disc_vars) # D Train step\n",
    "\n",
    "# sess = tf.Session(config=config)\n",
    "# sess = tf.Session()\n",
    "# tf.global_variables_initializer().run(session=sess)\n",
    "\n",
    "# batch_size = 256\n",
    "# nd_steps = 10\n",
    "# ng_steps = 10\n",
    "\n",
    "# x_plot = sample_data(n=batch_size)\n",
    "\n",
    "# f = open('loss_logs.csv','w')\n",
    "# f.write('Iteration,Discriminator Loss,Generator Loss\\n')"
   ]
  },
  {
   "cell_type": "code",
   "execution_count": 246,
   "metadata": {},
   "outputs": [],
   "source": [
    "# for i in range(10001):\n",
    "#     X_batch = sample_data(n=batch_size)\n",
    "    \n",
    "#     # 28 x 28 pixel images\n",
    "#     Z_batch = sample_Z(batch_size, 28, 28)\n",
    "\n",
    "#     for _ in range(nd_steps):\n",
    "#         _, dloss = sess.run([disc_step, disc_loss], feed_dict={X: X_batch, Z: Z_batch})\n",
    "#     rrep_dstep, grep_dstep = sess.run([r_rep, g_rep], feed_dict={X: X_batch, Z: Z_batch})\n",
    "\n",
    "#     for _ in range(ng_steps):\n",
    "#         _, gloss = sess.run([gen_step, gen_loss], feed_dict={Z: Z_batch})\n",
    "\n",
    "#     rrep_gstep, grep_gstep = sess.run([r_rep, g_rep], feed_dict={X: X_batch, Z: Z_batch})\n",
    "\n",
    "#     print(\"Iterations: %d\\t Discriminator loss: %.4f\\t Generator loss: %.4f\" % (i,dloss,gloss))\n",
    "#     if i%10 == 0:\n",
    "#         f.write(\"%d,%f,%f\\n\"%(i,dloss,gloss))\n",
    "\n",
    "#     if i%1000 == 0:\n",
    "#         # Iterations gif\n",
    "#         plt.figure()\n",
    "#         g_plot = sess.run(G_sample, feed_dict={Z: Z_batch})\n",
    "#         xax = plt.scatter(x_plot[:,0], x_plot[:,1])\n",
    "#         gax = plt.scatter(g_plot[:,0],g_plot[:,1])\n",
    "#         plt.xlim(-60, 60)\n",
    "#         plt.ylim(-50, 2600)\n",
    "#         plt.legend((xax,gax), (\"Real Data\",\"Generated Data\"))\n",
    "#         plt.title('Samples at Iteration %d'%i)\n",
    "#         plt.tight_layout()\n",
    "#         plt.savefig('../plots/iterations/iteration_%d.png'%i)\n",
    "#         plt.close()\n",
    "\n",
    "#         # Feature transform gif\n",
    "#         plt.figure()\n",
    "#         rrd = plt.scatter(rrep_dstep[:,0], rrep_dstep[:,1], alpha=0.5)\n",
    "#         rrg = plt.scatter(rrep_gstep[:,0], rrep_gstep[:,1], alpha=0.5)\n",
    "#         grd = plt.scatter(grep_dstep[:,0], grep_dstep[:,1], alpha=0.5)\n",
    "#         grg = plt.scatter(grep_gstep[:,0], grep_gstep[:,1], alpha=0.5)\n",
    "#         plt.xlim(-200, 200)\n",
    "#         plt.ylim(-40, 40)\n",
    "#         plt.legend((rrd, rrg, grd, grg), (\"Real Data Before G step\",\"Real Data After G step\",\n",
    "#                                \"Generated Data Before G step\",\"Generated Data After G step\"))\n",
    "#         plt.title('Transformed Features at Iteration %d'%i)\n",
    "#         plt.tight_layout()\n",
    "#         plt.savefig('../plots/features/feature_transform_%d.png'%i)\n",
    "#         plt.close()\n",
    "\n",
    "#         # Feature transform of centroids gif\n",
    "#         plt.figure()\n",
    "#         rrdc = plt.scatter(np.mean(rrep_dstep[:,0]), np.mean(rrep_dstep[:,1]),s=100, alpha=0.5)\n",
    "#         rrgc = plt.scatter(np.mean(rrep_gstep[:,0]), np.mean(rrep_gstep[:,1]),s=100, alpha=0.5)\n",
    "#         grdc = plt.scatter(np.mean(grep_dstep[:,0]), np.mean(grep_dstep[:,1]),s=100, alpha=0.5)\n",
    "#         grgc = plt.scatter(np.mean(grep_gstep[:,0]), np.mean(grep_gstep[:,1]),s=100, alpha=0.5)\n",
    "#         plt.xlim(-50, 50)\n",
    "#         plt.ylim(-50, 50)\n",
    "#         plt.legend((rrdc, rrgc, grdc, grgc), (\"Real Data Before G step\",\"Real Data After G step\",\n",
    "#                                \"Generated Data Before G step\",\"Generated Data After G step\"))\n",
    "\n",
    "#         plt.title('Centroid of Transformed Features at Iteration %d'%i)\n",
    "#         plt.tight_layout()\n",
    "#         plt.savefig('../plots/features/feature_transform_centroid_%d.png'%i)\n",
    "#         plt.close()\n",
    "\n",
    "# f.close()"
   ]
  },
  {
   "cell_type": "code",
   "execution_count": null,
   "metadata": {},
   "outputs": [],
   "source": []
  }
 ],
 "metadata": {
  "kernelspec": {
   "display_name": "Python 3",
   "language": "python",
   "name": "python3"
  },
  "language_info": {
   "codemirror_mode": {
    "name": "ipython",
    "version": 3
   },
   "file_extension": ".py",
   "mimetype": "text/x-python",
   "name": "python",
   "nbconvert_exporter": "python",
   "pygments_lexer": "ipython3",
   "version": "3.6.7"
  }
 },
 "nbformat": 4,
 "nbformat_minor": 2
}
